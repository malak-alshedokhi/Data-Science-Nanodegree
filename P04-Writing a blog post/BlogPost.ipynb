{
 "cells": [
  {
   "cell_type": "code",
   "execution_count": 1,
   "metadata": {},
   "outputs": [],
   "source": [
    "#importing required libraries:\n",
    "import pandas as pd \n",
    "import numpy as np\n",
    "import seaborn as sns\n",
    "import matplotlib.pyplot as plt"
   ]
  },
  {
   "cell_type": "code",
   "execution_count": 2,
   "metadata": {},
   "outputs": [],
   "source": [
    "#Loading Data\n",
    "car_data = pd.read_csv('carsclean.csv')"
   ]
  },
  {
   "cell_type": "code",
   "execution_count": 3,
   "metadata": {},
   "outputs": [
    {
     "name": "stdout",
     "output_type": "stream",
     "text": [
      "<class 'pandas.core.frame.DataFrame'>\n",
      "RangeIndex: 560 entries, 0 to 559\n",
      "Data columns (total 11 columns):\n",
      "city            560 non-null object\n",
      "car_maker       560 non-null object\n",
      "model           560 non-null object\n",
      "year            560 non-null int64\n",
      "condition       560 non-null object\n",
      "kilometers      560 non-null float64\n",
      "transmission    560 non-null object\n",
      "fuel            560 non-null object\n",
      "color           560 non-null object\n",
      "pay_method      560 non-null object\n",
      "price           560 non-null float64\n",
      "dtypes: float64(2), int64(1), object(8)\n",
      "memory usage: 48.2+ KB\n"
     ]
    }
   ],
   "source": [
    "#Exploring\n",
    "car_data.info()"
   ]
  },
  {
   "cell_type": "code",
   "execution_count": 4,
   "metadata": {},
   "outputs": [
    {
     "data": {
      "text/plain": [
       "(560, 11)"
      ]
     },
     "execution_count": 4,
     "metadata": {},
     "output_type": "execute_result"
    }
   ],
   "source": [
    "car_data.shape"
   ]
  },
  {
   "cell_type": "code",
   "execution_count": 5,
   "metadata": {},
   "outputs": [
    {
     "data": {
      "text/html": [
       "<div>\n",
       "<style scoped>\n",
       "    .dataframe tbody tr th:only-of-type {\n",
       "        vertical-align: middle;\n",
       "    }\n",
       "\n",
       "    .dataframe tbody tr th {\n",
       "        vertical-align: top;\n",
       "    }\n",
       "\n",
       "    .dataframe thead th {\n",
       "        text-align: right;\n",
       "    }\n",
       "</style>\n",
       "<table border=\"1\" class=\"dataframe\">\n",
       "  <thead>\n",
       "    <tr style=\"text-align: right;\">\n",
       "      <th></th>\n",
       "      <th>city</th>\n",
       "      <th>car_maker</th>\n",
       "      <th>model</th>\n",
       "      <th>year</th>\n",
       "      <th>condition</th>\n",
       "      <th>kilometers</th>\n",
       "      <th>transmission</th>\n",
       "      <th>fuel</th>\n",
       "      <th>color</th>\n",
       "      <th>pay_method</th>\n",
       "      <th>price</th>\n",
       "    </tr>\n",
       "  </thead>\n",
       "  <tbody>\n",
       "    <tr>\n",
       "      <td>0</td>\n",
       "      <td>Al Riyadh</td>\n",
       "      <td>Toyota</td>\n",
       "      <td>Rush</td>\n",
       "      <td>2019</td>\n",
       "      <td>Used</td>\n",
       "      <td>14999.5</td>\n",
       "      <td>Automatic</td>\n",
       "      <td>Gasoline</td>\n",
       "      <td>White</td>\n",
       "      <td>Cash or Installments</td>\n",
       "      <td>58375.0</td>\n",
       "    </tr>\n",
       "    <tr>\n",
       "      <td>1</td>\n",
       "      <td>Al Riyadh</td>\n",
       "      <td>Kia</td>\n",
       "      <td>Carnival</td>\n",
       "      <td>2006</td>\n",
       "      <td>Used</td>\n",
       "      <td>0.0</td>\n",
       "      <td>Automatic</td>\n",
       "      <td>Gasoline</td>\n",
       "      <td>Grey</td>\n",
       "      <td>Cash Only</td>\n",
       "      <td>10000.0</td>\n",
       "    </tr>\n",
       "    <tr>\n",
       "      <td>2</td>\n",
       "      <td>Al Riyadh</td>\n",
       "      <td>Toyota</td>\n",
       "      <td>Camry</td>\n",
       "      <td>2014</td>\n",
       "      <td>Used</td>\n",
       "      <td>24999.5</td>\n",
       "      <td>Automatic</td>\n",
       "      <td>Gasoline</td>\n",
       "      <td>White</td>\n",
       "      <td>Installments Only</td>\n",
       "      <td>58375.0</td>\n",
       "    </tr>\n",
       "    <tr>\n",
       "      <td>3</td>\n",
       "      <td>Al Riyadh</td>\n",
       "      <td>Ford</td>\n",
       "      <td>Fusion</td>\n",
       "      <td>2010</td>\n",
       "      <td>Used</td>\n",
       "      <td>200000.0</td>\n",
       "      <td>Automatic</td>\n",
       "      <td>Gasoline</td>\n",
       "      <td>White</td>\n",
       "      <td>Cash Only</td>\n",
       "      <td>22425.4</td>\n",
       "    </tr>\n",
       "    <tr>\n",
       "      <td>4</td>\n",
       "      <td>Al Riyadh</td>\n",
       "      <td>Ford</td>\n",
       "      <td>Taurus</td>\n",
       "      <td>2018</td>\n",
       "      <td>Used</td>\n",
       "      <td>5000.0</td>\n",
       "      <td>Automatic</td>\n",
       "      <td>Gasoline</td>\n",
       "      <td>Grey</td>\n",
       "      <td>Cash Only</td>\n",
       "      <td>22425.4</td>\n",
       "    </tr>\n",
       "  </tbody>\n",
       "</table>\n",
       "</div>"
      ],
      "text/plain": [
       "        city car_maker     model  year condition  kilometers transmission  \\\n",
       "0  Al Riyadh    Toyota      Rush  2019      Used     14999.5    Automatic   \n",
       "1  Al Riyadh       Kia  Carnival  2006      Used         0.0    Automatic   \n",
       "2  Al Riyadh    Toyota     Camry  2014      Used     24999.5    Automatic   \n",
       "3  Al Riyadh      Ford    Fusion  2010      Used    200000.0    Automatic   \n",
       "4  Al Riyadh      Ford    Taurus  2018      Used      5000.0    Automatic   \n",
       "\n",
       "       fuel  color            pay_method    price  \n",
       "0  Gasoline  White  Cash or Installments  58375.0  \n",
       "1  Gasoline   Grey             Cash Only  10000.0  \n",
       "2  Gasoline  White     Installments Only  58375.0  \n",
       "3  Gasoline  White             Cash Only  22425.4  \n",
       "4  Gasoline   Grey             Cash Only  22425.4  "
      ]
     },
     "execution_count": 5,
     "metadata": {},
     "output_type": "execute_result"
    }
   ],
   "source": [
    "car_data.head()"
   ]
  },
  {
   "cell_type": "code",
   "execution_count": 6,
   "metadata": {},
   "outputs": [
    {
     "data": {
      "text/html": [
       "<div>\n",
       "<style scoped>\n",
       "    .dataframe tbody tr th:only-of-type {\n",
       "        vertical-align: middle;\n",
       "    }\n",
       "\n",
       "    .dataframe tbody tr th {\n",
       "        vertical-align: top;\n",
       "    }\n",
       "\n",
       "    .dataframe thead th {\n",
       "        text-align: right;\n",
       "    }\n",
       "</style>\n",
       "<table border=\"1\" class=\"dataframe\">\n",
       "  <thead>\n",
       "    <tr style=\"text-align: right;\">\n",
       "      <th></th>\n",
       "      <th>year</th>\n",
       "      <th>kilometers</th>\n",
       "      <th>price</th>\n",
       "    </tr>\n",
       "  </thead>\n",
       "  <tbody>\n",
       "    <tr>\n",
       "      <td>count</td>\n",
       "      <td>560.000000</td>\n",
       "      <td>560.000000</td>\n",
       "      <td>560.000000</td>\n",
       "    </tr>\n",
       "    <tr>\n",
       "      <td>mean</td>\n",
       "      <td>2011.857143</td>\n",
       "      <td>120535.482143</td>\n",
       "      <td>37521.064286</td>\n",
       "    </tr>\n",
       "    <tr>\n",
       "      <td>std</td>\n",
       "      <td>3.892236</td>\n",
       "      <td>81305.837563</td>\n",
       "      <td>27022.610673</td>\n",
       "    </tr>\n",
       "    <tr>\n",
       "      <td>min</td>\n",
       "      <td>2006.000000</td>\n",
       "      <td>0.000000</td>\n",
       "      <td>2114.000000</td>\n",
       "    </tr>\n",
       "    <tr>\n",
       "      <td>25%</td>\n",
       "      <td>2008.000000</td>\n",
       "      <td>39999.500000</td>\n",
       "      <td>19000.000000</td>\n",
       "    </tr>\n",
       "    <tr>\n",
       "      <td>50%</td>\n",
       "      <td>2012.500000</td>\n",
       "      <td>149999.500000</td>\n",
       "      <td>27500.000000</td>\n",
       "    </tr>\n",
       "    <tr>\n",
       "      <td>75%</td>\n",
       "      <td>2014.250000</td>\n",
       "      <td>200000.000000</td>\n",
       "      <td>58375.000000</td>\n",
       "    </tr>\n",
       "    <tr>\n",
       "      <td>max</td>\n",
       "      <td>2019.000000</td>\n",
       "      <td>200000.000000</td>\n",
       "      <td>100000.000000</td>\n",
       "    </tr>\n",
       "  </tbody>\n",
       "</table>\n",
       "</div>"
      ],
      "text/plain": [
       "              year     kilometers          price\n",
       "count   560.000000     560.000000     560.000000\n",
       "mean   2011.857143  120535.482143   37521.064286\n",
       "std       3.892236   81305.837563   27022.610673\n",
       "min    2006.000000       0.000000    2114.000000\n",
       "25%    2008.000000   39999.500000   19000.000000\n",
       "50%    2012.500000  149999.500000   27500.000000\n",
       "75%    2014.250000  200000.000000   58375.000000\n",
       "max    2019.000000  200000.000000  100000.000000"
      ]
     },
     "execution_count": 6,
     "metadata": {},
     "output_type": "execute_result"
    }
   ],
   "source": [
    "car_data.describe()"
   ]
  },
  {
   "cell_type": "code",
   "execution_count": 7,
   "metadata": {},
   "outputs": [
    {
     "data": {
      "text/plain": [
       "False"
      ]
     },
     "execution_count": 7,
     "metadata": {},
     "output_type": "execute_result"
    }
   ],
   "source": [
    "car_data.isnull().values.any()"
   ]
  },
  {
   "cell_type": "markdown",
   "metadata": {},
   "source": [
    "### Dataset is clean and ready to be analyzed!"
   ]
  },
  {
   "cell_type": "markdown",
   "metadata": {},
   "source": [
    "#### I will try to answer the following questions:\n",
    "1.\tWhat is the most poplar car maker in city Al Riyadh?\n",
    "2.\tWhat is the average car price?\n",
    "3.\tIf the car bought used, what is the average kilometers that the car has been driven?\n"
   ]
  },
  {
   "cell_type": "code",
   "execution_count": 8,
   "metadata": {},
   "outputs": [
    {
     "data": {
      "image/png": "[encoded data removed]",
      "text/plain": [
       "<Figure size 432x288 with 1 Axes>"
      ]
     },
     "metadata": {
      "needs_background": "light"
     },
     "output_type": "display_data"
    }
   ],
   "source": [
    "# Question 1)What is the most poplar car maker in city Al Riyadh? \n",
    "ax = sns.countplot(x='car_maker', data=car_data)\n",
    "ax.set_xticklabels(ax.get_xticklabels(), fontsize=9.5)\n",
    "plt.tight_layout()\n",
    "plt.show()"
   ]
  },
  {
   "cell_type": "code",
   "execution_count": 9,
   "metadata": {},
   "outputs": [
    {
     "name": "stdout",
     "output_type": "stream",
     "text": [
      "37521.06428571428\n"
     ]
    }
   ],
   "source": [
    "# Question # 2) What is the average car price?\n",
    "print(car_data['price'].mean())\n"
   ]
  },
  {
   "cell_type": "code",
   "execution_count": 10,
   "metadata": {},
   "outputs": [
    {
     "data": {
      "text/html": [
       "<div>\n",
       "<style scoped>\n",
       "    .dataframe tbody tr th:only-of-type {\n",
       "        vertical-align: middle;\n",
       "    }\n",
       "\n",
       "    .dataframe tbody tr th {\n",
       "        vertical-align: top;\n",
       "    }\n",
       "\n",
       "    .dataframe thead th {\n",
       "        text-align: right;\n",
       "    }\n",
       "</style>\n",
       "<table border=\"1\" class=\"dataframe\">\n",
       "  <thead>\n",
       "    <tr style=\"text-align: right;\">\n",
       "      <th></th>\n",
       "      <th>city</th>\n",
       "      <th>car_maker</th>\n",
       "      <th>model</th>\n",
       "      <th>year</th>\n",
       "      <th>condition</th>\n",
       "      <th>kilometers</th>\n",
       "      <th>transmission</th>\n",
       "      <th>fuel</th>\n",
       "      <th>color</th>\n",
       "      <th>pay_method</th>\n",
       "      <th>price</th>\n",
       "    </tr>\n",
       "  </thead>\n",
       "  <tbody>\n",
       "    <tr>\n",
       "      <td>0</td>\n",
       "      <td>Al Riyadh</td>\n",
       "      <td>Toyota</td>\n",
       "      <td>Rush</td>\n",
       "      <td>2019</td>\n",
       "      <td>Used</td>\n",
       "      <td>14999.5</td>\n",
       "      <td>Automatic</td>\n",
       "      <td>Gasoline</td>\n",
       "      <td>White</td>\n",
       "      <td>Cash or Installments</td>\n",
       "      <td>58375.0</td>\n",
       "    </tr>\n",
       "    <tr>\n",
       "      <td>1</td>\n",
       "      <td>Al Riyadh</td>\n",
       "      <td>Kia</td>\n",
       "      <td>Carnival</td>\n",
       "      <td>2006</td>\n",
       "      <td>Used</td>\n",
       "      <td>0.0</td>\n",
       "      <td>Automatic</td>\n",
       "      <td>Gasoline</td>\n",
       "      <td>Grey</td>\n",
       "      <td>Cash Only</td>\n",
       "      <td>10000.0</td>\n",
       "    </tr>\n",
       "    <tr>\n",
       "      <td>2</td>\n",
       "      <td>Al Riyadh</td>\n",
       "      <td>Toyota</td>\n",
       "      <td>Camry</td>\n",
       "      <td>2014</td>\n",
       "      <td>Used</td>\n",
       "      <td>24999.5</td>\n",
       "      <td>Automatic</td>\n",
       "      <td>Gasoline</td>\n",
       "      <td>White</td>\n",
       "      <td>Installments Only</td>\n",
       "      <td>58375.0</td>\n",
       "    </tr>\n",
       "    <tr>\n",
       "      <td>3</td>\n",
       "      <td>Al Riyadh</td>\n",
       "      <td>Ford</td>\n",
       "      <td>Fusion</td>\n",
       "      <td>2010</td>\n",
       "      <td>Used</td>\n",
       "      <td>200000.0</td>\n",
       "      <td>Automatic</td>\n",
       "      <td>Gasoline</td>\n",
       "      <td>White</td>\n",
       "      <td>Cash Only</td>\n",
       "      <td>22425.4</td>\n",
       "    </tr>\n",
       "    <tr>\n",
       "      <td>4</td>\n",
       "      <td>Al Riyadh</td>\n",
       "      <td>Ford</td>\n",
       "      <td>Taurus</td>\n",
       "      <td>2018</td>\n",
       "      <td>Used</td>\n",
       "      <td>5000.0</td>\n",
       "      <td>Automatic</td>\n",
       "      <td>Gasoline</td>\n",
       "      <td>Grey</td>\n",
       "      <td>Cash Only</td>\n",
       "      <td>22425.4</td>\n",
       "    </tr>\n",
       "  </tbody>\n",
       "</table>\n",
       "</div>"
      ],
      "text/plain": [
       "        city car_maker     model  year condition  kilometers transmission  \\\n",
       "0  Al Riyadh    Toyota      Rush  2019      Used     14999.5    Automatic   \n",
       "1  Al Riyadh       Kia  Carnival  2006      Used         0.0    Automatic   \n",
       "2  Al Riyadh    Toyota     Camry  2014      Used     24999.5    Automatic   \n",
       "3  Al Riyadh      Ford    Fusion  2010      Used    200000.0    Automatic   \n",
       "4  Al Riyadh      Ford    Taurus  2018      Used      5000.0    Automatic   \n",
       "\n",
       "       fuel  color            pay_method    price  \n",
       "0  Gasoline  White  Cash or Installments  58375.0  \n",
       "1  Gasoline   Grey             Cash Only  10000.0  \n",
       "2  Gasoline  White     Installments Only  58375.0  \n",
       "3  Gasoline  White             Cash Only  22425.4  \n",
       "4  Gasoline   Grey             Cash Only  22425.4  "
      ]
     },
     "execution_count": 10,
     "metadata": {},
     "output_type": "execute_result"
    }
   ],
   "source": [
    "# copy of data\n",
    "car_data_copy = car_data\n",
    "car_data_copy.head()"
   ]
  },
  {
   "cell_type": "code",
   "execution_count": 11,
   "metadata": {},
   "outputs": [
    {
     "data": {
      "text/html": [
       "<div>\n",
       "<style scoped>\n",
       "    .dataframe tbody tr th:only-of-type {\n",
       "        vertical-align: middle;\n",
       "    }\n",
       "\n",
       "    .dataframe tbody tr th {\n",
       "        vertical-align: top;\n",
       "    }\n",
       "\n",
       "    .dataframe thead th {\n",
       "        text-align: right;\n",
       "    }\n",
       "</style>\n",
       "<table border=\"1\" class=\"dataframe\">\n",
       "  <thead>\n",
       "    <tr style=\"text-align: right;\">\n",
       "      <th></th>\n",
       "      <th>year</th>\n",
       "      <th>kilometers</th>\n",
       "      <th>price</th>\n",
       "    </tr>\n",
       "    <tr>\n",
       "      <th>car_maker</th>\n",
       "      <th></th>\n",
       "      <th></th>\n",
       "      <th></th>\n",
       "    </tr>\n",
       "  </thead>\n",
       "  <tbody>\n",
       "    <tr>\n",
       "      <td>BMW</td>\n",
       "      <td>2009.000000</td>\n",
       "      <td>178749.875000</td>\n",
       "      <td>62500.0</td>\n",
       "    </tr>\n",
       "    <tr>\n",
       "      <td>Toyota</td>\n",
       "      <td>2013.285714</td>\n",
       "      <td>100714.071429</td>\n",
       "      <td>58375.0</td>\n",
       "    </tr>\n",
       "    <tr>\n",
       "      <td>Cadillac</td>\n",
       "      <td>2008.000000</td>\n",
       "      <td>174999.500000</td>\n",
       "      <td>40000.0</td>\n",
       "    </tr>\n",
       "    <tr>\n",
       "      <td>Nissan</td>\n",
       "      <td>2009.000000</td>\n",
       "      <td>200000.000000</td>\n",
       "      <td>36000.0</td>\n",
       "    </tr>\n",
       "    <tr>\n",
       "      <td>Dodge</td>\n",
       "      <td>2012.000000</td>\n",
       "      <td>200000.000000</td>\n",
       "      <td>35000.0</td>\n",
       "    </tr>\n",
       "    <tr>\n",
       "      <td>Ford</td>\n",
       "      <td>2013.333333</td>\n",
       "      <td>141666.416667</td>\n",
       "      <td>26160.8</td>\n",
       "    </tr>\n",
       "    <tr>\n",
       "      <td>Suzuki</td>\n",
       "      <td>2013.000000</td>\n",
       "      <td>14999.500000</td>\n",
       "      <td>24000.0</td>\n",
       "    </tr>\n",
       "    <tr>\n",
       "      <td>GMC</td>\n",
       "      <td>2007.000000</td>\n",
       "      <td>200000.000000</td>\n",
       "      <td>22000.0</td>\n",
       "    </tr>\n",
       "    <tr>\n",
       "      <td>Mazda</td>\n",
       "      <td>2013.000000</td>\n",
       "      <td>154999.500000</td>\n",
       "      <td>16000.0</td>\n",
       "    </tr>\n",
       "    <tr>\n",
       "      <td>Renault</td>\n",
       "      <td>2016.000000</td>\n",
       "      <td>54999.500000</td>\n",
       "      <td>16000.0</td>\n",
       "    </tr>\n",
       "    <tr>\n",
       "      <td>Kia</td>\n",
       "      <td>2009.666667</td>\n",
       "      <td>16666.500000</td>\n",
       "      <td>10000.0</td>\n",
       "    </tr>\n",
       "  </tbody>\n",
       "</table>\n",
       "</div>"
      ],
      "text/plain": [
       "                  year     kilometers    price\n",
       "car_maker                                     \n",
       "BMW        2009.000000  178749.875000  62500.0\n",
       "Toyota     2013.285714  100714.071429  58375.0\n",
       "Cadillac   2008.000000  174999.500000  40000.0\n",
       "Nissan     2009.000000  200000.000000  36000.0\n",
       "Dodge      2012.000000  200000.000000  35000.0\n",
       "Ford       2013.333333  141666.416667  26160.8\n",
       "Suzuki     2013.000000   14999.500000  24000.0\n",
       "GMC        2007.000000  200000.000000  22000.0\n",
       "Mazda      2013.000000  154999.500000  16000.0\n",
       "Renault    2016.000000   54999.500000  16000.0\n",
       "Kia        2009.666667   16666.500000  10000.0"
      ]
     },
     "execution_count": 11,
     "metadata": {},
     "output_type": "execute_result"
    }
   ],
   "source": [
    "# test\n",
    "mean_car = car_data_copy.groupby(['car_maker']).mean().sort_values('price', ascending=False)\n",
    "mean_car"
   ]
  },
  {
   "cell_type": "code",
   "execution_count": 12,
   "metadata": {},
   "outputs": [
    {
     "data": {
      "text/plain": [
       "<matplotlib.axes._subplots.AxesSubplot at 0x1a1adae650>"
      ]
     },
     "execution_count": 12,
     "metadata": {},
     "output_type": "execute_result"
    },
    {
     "data": {
      "image/png": "[encoded data removed]",
      "text/plain": [
       "<Figure size 720x576 with 1 Axes>"
      ]
     },
     "metadata": {},
     "output_type": "display_data"
    }
   ],
   "source": [
    "#Plot\n",
    "mean_car.plot( y = 'price',use_index=True, figsize=(10,8), kind='pie', title='Average prices per car maker' \n",
    "              ,autopct='%1.2f%%',legend = None,startangle=60)"
   ]
  },
  {
   "cell_type": "markdown",
   "metadata": {},
   "source": [
    "### Althogh Toyata is the most poplar car maker, however it is the second most expensive brand.\n",
    "##### Why ?\n",
    "I have found this interviw for Mr. Takayuki Yoshitsugu, chief representative of Toyota Motor Corporation in the Middle East and North Africa. To Quote his response on the poplarity and why Toyta own 35% of the market share in Kingdom of Saudi Arabia;\n",
    "> Toyota is always working to provide ever better cars which exhibit the enduring attributes of performance, design, quality, durability and reliability that Toyota has become synonymous for.\n",
    "\n"
   ]
  },
  {
   "cell_type": "markdown",
   "metadata": {},
   "source": [
    "## References :\n",
    "https://www.arabnews.com/motoring/news/897836"
   ]
  },
  {
   "cell_type": "code",
   "execution_count": 13,
   "metadata": {},
   "outputs": [
    {
     "data": {
      "text/html": [
       "<div>\n",
       "<style scoped>\n",
       "    .dataframe tbody tr th:only-of-type {\n",
       "        vertical-align: middle;\n",
       "    }\n",
       "\n",
       "    .dataframe tbody tr th {\n",
       "        vertical-align: top;\n",
       "    }\n",
       "\n",
       "    .dataframe thead th {\n",
       "        text-align: right;\n",
       "    }\n",
       "</style>\n",
       "<table border=\"1\" class=\"dataframe\">\n",
       "  <thead>\n",
       "    <tr style=\"text-align: right;\">\n",
       "      <th></th>\n",
       "      <th>year</th>\n",
       "      <th>kilometers</th>\n",
       "      <th>price</th>\n",
       "    </tr>\n",
       "    <tr>\n",
       "      <th>condition</th>\n",
       "      <th></th>\n",
       "      <th></th>\n",
       "      <th></th>\n",
       "    </tr>\n",
       "  </thead>\n",
       "  <tbody>\n",
       "    <tr>\n",
       "      <td>Used</td>\n",
       "      <td>2011.592593</td>\n",
       "      <td>124999.759259</td>\n",
       "      <td>35262.585185</td>\n",
       "    </tr>\n",
       "    <tr>\n",
       "      <td>New</td>\n",
       "      <td>2019.000000</td>\n",
       "      <td>0.000000</td>\n",
       "      <td>98500.000000</td>\n",
       "    </tr>\n",
       "  </tbody>\n",
       "</table>\n",
       "</div>"
      ],
      "text/plain": [
       "                  year     kilometers         price\n",
       "condition                                          \n",
       "Used       2011.592593  124999.759259  35262.585185\n",
       "New        2019.000000       0.000000  98500.000000"
      ]
     },
     "execution_count": 13,
     "metadata": {},
     "output_type": "execute_result"
    }
   ],
   "source": [
    "# Question 3) If the car bought used, what is the average kilometers that the car has been driven?\n",
    "used_car = car_data_copy.groupby(car_data_copy['condition']).mean().sort_values('kilometers', ascending=False)\n",
    "used_car"
   ]
  },
  {
   "cell_type": "code",
   "execution_count": 14,
   "metadata": {},
   "outputs": [
    {
     "data": {
      "text/plain": [
       "year            2011.592593\n",
       "kilometers    124999.759259\n",
       "price          35262.585185\n",
       "Name: Used, dtype: float64"
      ]
     },
     "execution_count": 14,
     "metadata": {},
     "output_type": "execute_result"
    }
   ],
   "source": [
    "row = used_car.iloc[0]\n",
    "row"
   ]
  },
  {
   "cell_type": "code",
   "execution_count": 15,
   "metadata": {},
   "outputs": [
    {
     "data": {
      "text/plain": [
       "<matplotlib.axes._subplots.AxesSubplot at 0x1a1b083d50>"
      ]
     },
     "execution_count": 15,
     "metadata": {},
     "output_type": "execute_result"
    },
    {
     "data": {
      "image/png": "[encoded data removed]",
      "text/plain": [
       "<Figure size 576x576 with 1 Axes>"
      ]
     },
     "metadata": {
      "needs_background": "light"
     },
     "output_type": "display_data"
    }
   ],
   "source": [
    "#Plot\n",
    "row.plot( use_index=True, figsize=(8,8), kind='bar', title='Average kilometers of used cars' \n",
    "              ,legend = None ,y='kilometers' )"
   ]
  },
  {
   "cell_type": "markdown",
   "metadata": {},
   "source": [
    "### Data Source:\n",
    "https://www.kaggle.com/energykingdom/saudi-arabia-car-prices-machine-learning\n"
   ]
  }
 ],
 "metadata": {
  "kernelspec": {
   "display_name": "Python 3",
   "language": "python",
   "name": "python3"
  },
  "language_info": {
   "codemirror_mode": {
    "name": "ipython",
    "version": 3
   },
   "file_extension": ".py",
   "mimetype": "text/x-python",
   "name": "python",
   "nbconvert_exporter": "python",
   "pygments_lexer": "ipython3",
   "version": "3.7.4"
  }
 },
 "nbformat": 4,
 "nbformat_minor": 2
}
